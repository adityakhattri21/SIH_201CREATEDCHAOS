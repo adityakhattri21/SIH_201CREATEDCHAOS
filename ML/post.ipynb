{
 "cells": [
  {
   "cell_type": "code",
   "execution_count": 23,
   "metadata": {},
   "outputs": [
    {
     "data": {
      "text/html": [
       "<div>\n",
       "<style scoped>\n",
       "    .dataframe tbody tr th:only-of-type {\n",
       "        vertical-align: middle;\n",
       "    }\n",
       "\n",
       "    .dataframe tbody tr th {\n",
       "        vertical-align: top;\n",
       "    }\n",
       "\n",
       "    .dataframe thead th {\n",
       "        text-align: right;\n",
       "    }\n",
       "</style>\n",
       "<table border=\"1\" class=\"dataframe\">\n",
       "  <thead>\n",
       "    <tr style=\"text-align: right;\">\n",
       "      <th></th>\n",
       "      <th>postId</th>\n",
       "      <th>heading</th>\n",
       "      <th>tags</th>\n",
       "      <th>desc</th>\n",
       "    </tr>\n",
       "  </thead>\n",
       "  <tbody>\n",
       "    <tr>\n",
       "      <th>0</th>\n",
       "      <td>5646464</td>\n",
       "      <td>Insurance company refused to pay my medical claim</td>\n",
       "      <td>[medical insurance, fraudery]</td>\n",
       "      <td>I was admitted for 5 days and was charged 7000...</td>\n",
       "    </tr>\n",
       "    <tr>\n",
       "      <th>1</th>\n",
       "      <td>56545482</td>\n",
       "      <td>College administration forced me to pay tuitio...</td>\n",
       "      <td>[education, universities, student]</td>\n",
       "      <td>The College says that the students who take an...</td>\n",
       "    </tr>\n",
       "    <tr>\n",
       "      <th>2</th>\n",
       "      <td>5645544</td>\n",
       "      <td>Refused admission to university</td>\n",
       "      <td>[student, engineering, education]</td>\n",
       "      <td>I reached the Admission councel after 4 days t...</td>\n",
       "    </tr>\n",
       "    <tr>\n",
       "      <th>3</th>\n",
       "      <td>564643434</td>\n",
       "      <td>Hospital refused to provide medical aid</td>\n",
       "      <td>[medical]</td>\n",
       "      <td>Found someone having an accident on the road, ...</td>\n",
       "    </tr>\n",
       "    <tr>\n",
       "      <th>4</th>\n",
       "      <td>564454546464</td>\n",
       "      <td>Lawyers are adverizing themselves in Websites</td>\n",
       "      <td>[constitution, technology, advertisement, law]</td>\n",
       "      <td>As per the constitution act 1960, lawyers are ...</td>\n",
       "    </tr>\n",
       "  </tbody>\n",
       "</table>\n",
       "</div>"
      ],
      "text/plain": [
       "         postId                                            heading  \\\n",
       "0       5646464  Insurance company refused to pay my medical claim   \n",
       "1      56545482  College administration forced me to pay tuitio...   \n",
       "2       5645544                    Refused admission to university   \n",
       "3     564643434            Hospital refused to provide medical aid   \n",
       "4  564454546464     Lawyers are adverizing themselves in Websites    \n",
       "\n",
       "                                             tags  \\\n",
       "0                   [medical insurance, fraudery]   \n",
       "1              [education, universities, student]   \n",
       "2               [student, engineering, education]   \n",
       "3                                       [medical]   \n",
       "4  [constitution, technology, advertisement, law]   \n",
       "\n",
       "                                                desc  \n",
       "0  I was admitted for 5 days and was charged 7000...  \n",
       "1  The College says that the students who take an...  \n",
       "2  I reached the Admission councel after 4 days t...  \n",
       "3  Found someone having an accident on the road, ...  \n",
       "4  As per the constitution act 1960, lawyers are ...  "
      ]
     },
     "execution_count": 23,
     "metadata": {},
     "output_type": "execute_result"
    }
   ],
   "source": [
    "import pandas as pd\n",
    "df = pd.read_json('./posts.json')\n",
    "df.head()"
   ]
  },
  {
   "cell_type": "code",
   "execution_count": 24,
   "metadata": {},
   "outputs": [],
   "source": [
    "# User's legal problem description\n",
    "user_input = \"I am facing isssues in getting my permanent documents from my university\""
   ]
  },
  {
   "cell_type": "code",
   "execution_count": 25,
   "metadata": {},
   "outputs": [],
   "source": [
    "# Preprocess and calculate TF-IDF vectors\n",
    "from sklearn.feature_extraction.text import TfidfVectorizer\n",
    "from sklearn.metrics.pairwise import cosine_similarity\n",
    "tfidf_vectorizer = TfidfVectorizer(stop_words='english')\n",
    "tfidf_matrix = tfidf_vectorizer.fit_transform(df['heading'])\n",
    "user_vector = tfidf_vectorizer.transform([user_input])\n"
   ]
  },
  {
   "cell_type": "code",
   "execution_count": 26,
   "metadata": {},
   "outputs": [
    {
     "data": {
      "text/html": [
       "<div>\n",
       "<style scoped>\n",
       "    .dataframe tbody tr th:only-of-type {\n",
       "        vertical-align: middle;\n",
       "    }\n",
       "\n",
       "    .dataframe tbody tr th {\n",
       "        vertical-align: top;\n",
       "    }\n",
       "\n",
       "    .dataframe thead th {\n",
       "        text-align: right;\n",
       "    }\n",
       "</style>\n",
       "<table border=\"1\" class=\"dataframe\">\n",
       "  <thead>\n",
       "    <tr style=\"text-align: right;\">\n",
       "      <th></th>\n",
       "      <th>PostID</th>\n",
       "      <th>Similarity</th>\n",
       "    </tr>\n",
       "  </thead>\n",
       "  <tbody>\n",
       "    <tr>\n",
       "      <th>2</th>\n",
       "      <td>5645544</td>\n",
       "      <td>0.559022</td>\n",
       "    </tr>\n",
       "    <tr>\n",
       "      <th>1</th>\n",
       "      <td>56545482</td>\n",
       "      <td>0.216508</td>\n",
       "    </tr>\n",
       "    <tr>\n",
       "      <th>0</th>\n",
       "      <td>5646464</td>\n",
       "      <td>0.000000</td>\n",
       "    </tr>\n",
       "    <tr>\n",
       "      <th>3</th>\n",
       "      <td>564643434</td>\n",
       "      <td>0.000000</td>\n",
       "    </tr>\n",
       "    <tr>\n",
       "      <th>4</th>\n",
       "      <td>564454546464</td>\n",
       "      <td>0.000000</td>\n",
       "    </tr>\n",
       "    <tr>\n",
       "      <th>5</th>\n",
       "      <td>56463434</td>\n",
       "      <td>0.000000</td>\n",
       "    </tr>\n",
       "  </tbody>\n",
       "</table>\n",
       "</div>"
      ],
      "text/plain": [
       "         PostID  Similarity\n",
       "2       5645544    0.559022\n",
       "1      56545482    0.216508\n",
       "0       5646464    0.000000\n",
       "3     564643434    0.000000\n",
       "4  564454546464    0.000000\n",
       "5      56463434    0.000000"
      ]
     },
     "execution_count": 26,
     "metadata": {},
     "output_type": "execute_result"
    }
   ],
   "source": [
    "cosine_similarities = cosine_similarity(user_vector, tfidf_matrix).flatten()\n",
    "\n",
    "# Create a dataframe to store similarity scores\n",
    "results = pd.DataFrame({'PostID': df['postId'], 'Similarity': cosine_similarities})\n",
    "\n",
    "# Sort by similarity score in descending order\n",
    "results = results.sort_values(by='Similarity', ascending=False)\n",
    "results"
   ]
  },
  {
   "cell_type": "code",
   "execution_count": 27,
   "metadata": {},
   "outputs": [
    {
     "data": {
      "text/html": [
       "<div>\n",
       "<style scoped>\n",
       "    .dataframe tbody tr th:only-of-type {\n",
       "        vertical-align: middle;\n",
       "    }\n",
       "\n",
       "    .dataframe tbody tr th {\n",
       "        vertical-align: top;\n",
       "    }\n",
       "\n",
       "    .dataframe thead th {\n",
       "        text-align: right;\n",
       "    }\n",
       "</style>\n",
       "<table border=\"1\" class=\"dataframe\">\n",
       "  <thead>\n",
       "    <tr style=\"text-align: right;\">\n",
       "      <th></th>\n",
       "      <th>PostID</th>\n",
       "      <th>Similarity</th>\n",
       "    </tr>\n",
       "  </thead>\n",
       "  <tbody>\n",
       "    <tr>\n",
       "      <th>2</th>\n",
       "      <td>5645544</td>\n",
       "      <td>0.559022</td>\n",
       "    </tr>\n",
       "    <tr>\n",
       "      <th>1</th>\n",
       "      <td>56545482</td>\n",
       "      <td>0.216508</td>\n",
       "    </tr>\n",
       "  </tbody>\n",
       "</table>\n",
       "</div>"
      ],
      "text/plain": [
       "     PostID  Similarity\n",
       "2   5645544    0.559022\n",
       "1  56545482    0.216508"
      ]
     },
     "execution_count": 27,
     "metadata": {},
     "output_type": "execute_result"
    }
   ],
   "source": [
    "results = results[results['Similarity'] > 0.00]\n",
    "results\n"
   ]
  }
 ],
 "metadata": {
  "kernelspec": {
   "display_name": "base",
   "language": "python",
   "name": "python3"
  },
  "language_info": {
   "codemirror_mode": {
    "name": "ipython",
    "version": 3
   },
   "file_extension": ".py",
   "mimetype": "text/x-python",
   "name": "python",
   "nbconvert_exporter": "python",
   "pygments_lexer": "ipython3",
   "version": "3.7.0"
  },
  "orig_nbformat": 4
 },
 "nbformat": 4,
 "nbformat_minor": 2
}
